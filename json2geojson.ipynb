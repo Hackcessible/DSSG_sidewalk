{
 "cells": [
  {
   "cell_type": "code",
   "execution_count": 1,
   "metadata": {
    "collapsed": true
   },
   "outputs": [],
   "source": [
    "import os,sys,json"
   ]
  },
  {
   "cell_type": "code",
   "execution_count": 50,
   "metadata": {
    "collapsed": false
   },
   "outputs": [],
   "source": [
    "import sys\n",
    "#input = sys.argv[1]\n",
    "#output = sys.args[2]\n",
    "\n",
    "input = \"beacon.json\"\n",
    "output = \"beacon.geojson\"\n",
    "\n",
    "with open(input) as f:\n",
    "    json_features = json.load(f)"
   ]
  },
  {
   "cell_type": "code",
   "execution_count": 52,
   "metadata": {
    "collapsed": false
   },
   "outputs": [
    {
     "ename": "KeyError",
     "evalue": "'shape'",
     "output_type": "error",
     "traceback": [
      "\u001b[0;31m---------------------------------------------------------------------------\u001b[0m",
      "\u001b[0;31mKeyError\u001b[0m                                  Traceback (most recent call last)",
      "\u001b[0;32m<ipython-input-52-b0400b4c01da>\u001b[0m in \u001b[0;36m<module>\u001b[0;34m()\u001b[0m\n\u001b[1;32m     34\u001b[0m         \u001b[0mnew_feature\u001b[0m\u001b[0;34m[\u001b[0m\u001b[0;34m\"geometry\"\u001b[0m\u001b[0;34m]\u001b[0m\u001b[0;34m[\u001b[0m\u001b[0;34m\"coordinates\"\u001b[0m\u001b[0;34m]\u001b[0m \u001b[0;34m=\u001b[0m \u001b[0mfeature\u001b[0m\u001b[0;34m[\u001b[0m\u001b[0;34m\"shape\"\u001b[0m\u001b[0;34m]\u001b[0m\u001b[0;34m[\u001b[0m\u001b[0;34m\"geometry\"\u001b[0m\u001b[0;34m]\u001b[0m\u001b[0;34m[\u001b[0m\u001b[0;34m\"paths\"\u001b[0m\u001b[0;34m]\u001b[0m\u001b[0;34m[\u001b[0m\u001b[0;36m0\u001b[0m\u001b[0;34m]\u001b[0m\u001b[0;34m\u001b[0m\u001b[0m\n\u001b[1;32m     35\u001b[0m     \u001b[0;32melse\u001b[0m\u001b[0;34m:\u001b[0m\u001b[0;34m\u001b[0m\u001b[0m\n\u001b[0;32m---> 36\u001b[0;31m         \u001b[0mnew_feature\u001b[0m\u001b[0;34m[\u001b[0m\u001b[0;34m\"geometry\"\u001b[0m\u001b[0;34m]\u001b[0m\u001b[0;34m[\u001b[0m\u001b[0;34m\"coordinates\"\u001b[0m\u001b[0;34m]\u001b[0m \u001b[0;34m=\u001b[0m \u001b[0;34m[\u001b[0m\u001b[0mfeature\u001b[0m\u001b[0;34m[\u001b[0m\u001b[0;34m\"shape\"\u001b[0m\u001b[0;34m]\u001b[0m\u001b[0;34m[\u001b[0m\u001b[0;34m\"longitude\"\u001b[0m\u001b[0;34m]\u001b[0m\u001b[0;34m,\u001b[0m\u001b[0mnew_feature\u001b[0m\u001b[0;34m[\u001b[0m\u001b[0;34m\"shape\"\u001b[0m\u001b[0;34m]\u001b[0m\u001b[0;34m[\u001b[0m\u001b[0;34m\"latitude\"\u001b[0m\u001b[0;34m]\u001b[0m\u001b[0;34m]\u001b[0m\u001b[0;34m\u001b[0m\u001b[0m\n\u001b[0m\u001b[1;32m     37\u001b[0m     \u001b[0mfeature\u001b[0m\u001b[0;34m.\u001b[0m\u001b[0mpop\u001b[0m\u001b[0;34m(\u001b[0m\u001b[0;34m\"shape\"\u001b[0m\u001b[0;34m)\u001b[0m\u001b[0;34m\u001b[0m\u001b[0m\n\u001b[1;32m     38\u001b[0m     \u001b[0mnew_feature\u001b[0m\u001b[0;34m[\u001b[0m\u001b[0;34m\"properties\"\u001b[0m\u001b[0;34m]\u001b[0m \u001b[0;34m=\u001b[0m \u001b[0mfeature\u001b[0m\u001b[0;34m\u001b[0m\u001b[0m\n",
      "\u001b[0;31mKeyError\u001b[0m: 'shape'"
     ]
    }
   ],
   "source": [
    "import sys,json\n",
    "#input = sys.argv[1]\n",
    "#output = sys.args[2]\n",
    "input = \"beacon.json\"\n",
    "output = \"beacon.geojson\"\n",
    "\n",
    "with open(input) as f:\n",
    "    json_features = json.load(f)\n",
    "\n",
    "\n",
    "\n",
    "\n",
    "geojson_features = [];\n",
    "\n",
    "####  Point or Line\n",
    "type_feature = \"\"\n",
    "\n",
    "assert len(json_features)!= 0\n",
    "assert \"shape\" in json_features[0]\n",
    "\n",
    "if \"geometry\" in json_features[0][\"shape\"]:\n",
    "    type_feature = \"LineString\"\n",
    "elif \"longitude\" in json_features[0][\"shape\"] and \"latitude\" in json_features[0][\"shape\"]:\n",
    "    type_feature = \"Point\"\n",
    "else:\n",
    "    type_feature = \"Lack of coordinates information\"\n",
    "    \n",
    "assert type_feature != \"Lack of coordinates information\"\n",
    "\n",
    "for feature in json_features:\n",
    "    new_feature = {\"type\":\"Feature\"}\n",
    "    new_feature[\"geometry\"] = {\"type\":type_feature}\n",
    "    if(type_feature == \"LineString\"):\n",
    "        new_feature[\"geometry\"][\"coordinates\"] = feature[\"shape\"][\"geometry\"][\"paths\"][0]\n",
    "    else:\n",
    "        new_feature[\"geometry\"][\"coordinates\"] = [feature[\"shape\"][\"longitude\"],new_feature[\"shape\"][\"latitude\"]]\n",
    "    feature.pop(\"shape\")\n",
    "    new_feature[\"properties\"] = feature\n",
    "    geojson_features.append(new_feature)\n",
    "    \n",
    "geojson_file = {\"type\": \"FeatureCollection\",\"features\":geojson_features}\n",
    "\n",
    "with open(output, \"w\") as f:\n",
    "    json.dump(geojson_file, f)"
   ]
  },
  {
   "cell_type": "code",
   "execution_count": 55,
   "metadata": {
    "collapsed": false
   },
   "outputs": [
    {
     "data": {
      "text/plain": [
       "{u'attachment_condition': u' ',\n",
       " u'category': u'BCN-SCHL',\n",
       " u'compkey': u'567513',\n",
       " u'comptype': u'16',\n",
       " u'condition': u'GOOD',\n",
       " u'condition_assessment_date': 1294041600,\n",
       " u'control_condition': u' ',\n",
       " u'control_protocol_type': u' ',\n",
       " u'control_type': u'WEB',\n",
       " u'crosswalk_tub': u'N',\n",
       " u'current_status': u'INSVC',\n",
       " u'current_status_date': 1294041600,\n",
       " u'disphousingcond': u' ',\n",
       " u'distance': u'278',\n",
       " u'electr_wire_loc': u' ',\n",
       " u'flashing': u'Y',\n",
       " u'install_date': 1404716400,\n",
       " u'installer': u'SDOT',\n",
       " u'metered': u'N',\n",
       " u'model_type': u'BCN-TC3',\n",
       " u'modem_type': u' ',\n",
       " u'mount_type': u'TM-SHLDR',\n",
       " u'objectid': u'1',\n",
       " u'ownership': u'SDOT',\n",
       " u'pole_condition': u' ',\n",
       " u'school_speed_camera': u'N',\n",
       " u'segkey': u'19664',\n",
       " u'shape': {u'latitude': u'47.526197367000066',\n",
       "  u'longitude': u'-122.2735594379999',\n",
       "  u'needs_recoding': False},\n",
       " u'side': u'N',\n",
       " u'solar_install_date': 1404716400,\n",
       " u'span_condition': u' ',\n",
       " u'unitdesc': u'S CLOVERDALE ST 0460 BLOCK N SIDE ( 248) 0 FT W/O 47TH AVE S (BCN-SCHL)                                                                                                                                                                                        ',\n",
       " u'unitid': u'BCN-65',\n",
       " u'unittype': u'BCN',\n",
       " u'width': u'25'}"
      ]
     },
     "execution_count": 55,
     "metadata": {},
     "output_type": "execute_result"
    }
   ],
   "source": [
    "json_features[0][\"shap\"]\n"
   ]
  },
  {
   "cell_type": "code",
   "execution_count": 47,
   "metadata": {
    "collapsed": false
   },
   "outputs": [
    {
     "data": {
      "text/plain": [
       "{u'geometry': {u'paths': [[[-122.30653212899995, 47.66308160500006],\n",
       "    [-122.30652143899994, 47.664860013000066]]]},\n",
       " u'latitude': u'47.66308160500006',\n",
       " u'longitude': u'-122.30653212899995',\n",
       " u'needs_recoding': False}"
      ]
     },
     "execution_count": 47,
     "metadata": {},
     "output_type": "execute_result"
    }
   ],
   "source": [
    "permit = json_permits[7]\n",
    "permit[\"shape\"]"
   ]
  },
  {
   "cell_type": "code",
   "execution_count": null,
   "metadata": {
    "collapsed": true
   },
   "outputs": [],
   "source": []
  }
 ],
 "metadata": {
  "kernelspec": {
   "display_name": "Python 2",
   "language": "python",
   "name": "python2"
  },
  "language_info": {
   "codemirror_mode": {
    "name": "ipython",
    "version": 2
   },
   "file_extension": ".py",
   "mimetype": "text/x-python",
   "name": "python",
   "nbconvert_exporter": "python",
   "pygments_lexer": "ipython2",
   "version": "2.7.6"
  }
 },
 "nbformat": 4,
 "nbformat_minor": 0
}
