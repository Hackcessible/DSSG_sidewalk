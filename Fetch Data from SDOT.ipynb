{
 "cells": [
  {
   "cell_type": "markdown",
   "metadata": {},
   "source": [
    "# Fetch Data from SDOT"
   ]
  },
  {
   "cell_type": "markdown",
   "metadata": {},
   "source": [
    "## Step 1: Find data source"
   ]
  },
  {
   "cell_type": "markdown",
   "metadata": {},
   "source": [
    "To get the data_url,\n",
    "1. go to the dataset main page, i.e. [Street Permit Dataset](https://data.seattle.gov/Transportation/SDOT-Street-Use-Permit-by-Street-Segment-includes-/w47m-dg37)\n",
    "2. go to the Export Tab and copy the API Endpoint url."
   ]
  },
  {
   "cell_type": "code",
   "execution_count": 1,
   "metadata": {
    "collapsed": false
   },
   "outputs": [],
   "source": [
    "# data_url = \"https://data.seattle.gov/resource/\" + ID_DATASET\n",
    "data_url = \"https://data.seattle.gov/resource/w47m-dg37\""
   ]
  },
  {
   "cell_type": "markdown",
   "metadata": {},
   "source": [
    "## Step 2: Defind query parameters"
   ]
  },
  {
   "cell_type": "markdown",
   "metadata": {},
   "source": [
    "SODA API use SoQL as query languages, which is very similar to SQL. [Queries using SODA2](http://dev.socrata.com/docs/queries.html) \n",
    "  \n",
    "  \n",
    "First, we can choose which attributes we want to include in the dateset by seting `$select` in the api call."
   ]
  },
  {
   "cell_type": "code",
   "execution_count": 2,
   "metadata": {
    "collapsed": false
   },
   "outputs": [],
   "source": [
    "# Useful Attributes \n",
    "# attributes = [\"attr1\", \"attr2\", \"attr3\"]\n",
    "# is a array of names of attributes that we want to include in the dataset.\n",
    "attr_permit = [\"permit_status\",]\n",
    "attr_geo = [\"shape\",\"shape_length\",\"permit_location_text\"]\n",
    "attr_time = [\"am_peak_hour_ok_flag\", \"pm_peak_hour_ok_flag\", \"night_weekend_only_flag\"]\n",
    "attr_close = [\"sidewalk_closed_flag\",\"sidewalk_close_start_date\", \"sidewalk_close_end_date\"]\n",
    "attr_block = [\"sidewalk_blocked_flag\", \"sidewalk_block_start_date\",\"sidewalk_block_end_date\"]\n",
    "attr = attr_permit + attr_geo + attr_time + attr_close + attr_block"
   ]
  },
  {
   "cell_type": "markdown",
   "metadata": {},
   "source": [
    "We can also set querying constraints by setting the parameter `$where`."
   ]
  },
  {
   "cell_type": "code",
   "execution_count": 3,
   "metadata": {
    "collapsed": false
   },
   "outputs": [],
   "source": [
    "# Query Constraints\n",
    "constraints  = [];\n",
    "\n",
    "## pick all permits that either block or close the sidewalk.\n",
    "constraints.append(\"(sidewalk_closed_flag = 'Y' or sidewalk_blocked_flag = 'Y')\")\n",
    "\n",
    "# pick all blocks/closures happens today.\n",
    "import datetime\n",
    "today = datetime.date.today().isoformat()\n",
    "timeConstraint = \"(sidewalk_close_end_date >= '\" + today + \"' and sidewalk_close_end_date <= '\"+ today + \"')\"\n",
    "timeConstraint += \" or \"\n",
    "timeConstraint += \"(sidewalk_block_end_date >= '\" + today + \"' and sidewalk_block_end_date <= '\"+ today + \"')\"\n",
    "constraints.append(timeConstraint)"
   ]
  },
  {
   "cell_type": "markdown",
   "metadata": {},
   "source": [
    "We put all those parameters into a dictionary. The `$limit` parameter indicates maximum number of results to return."
   ]
  },
  {
   "cell_type": "code",
   "execution_count": 4,
   "metadata": {
    "collapsed": false
   },
   "outputs": [],
   "source": [
    "# Create parameter list\n",
    "params = {\"$select\": ','.join(attr), \n",
    "          \"$where\": ' and '.join(constraints),\n",
    "          \"$limit\": 50000}"
   ]
  },
  {
   "cell_type": "markdown",
   "metadata": {},
   "source": [
    "## Step3: Request Data"
   ]
  },
  {
   "cell_type": "markdown",
   "metadata": {},
   "source": [
    "To request data from Socrata, we need a socrata app token. You can get one by  signing up from [this link](https://opendata.socrata.com/login) or use mine."
   ]
  },
  {
   "cell_type": "code",
   "execution_count": 5,
   "metadata": {
    "collapsed": false
   },
   "outputs": [
    {
     "name": "stderr",
     "output_type": "stream",
     "text": [
      "/Library/Python/2.7/site-packages/requests/packages/urllib3/util/ssl_.py:90: InsecurePlatformWarning: A true SSLContext object is not available. This prevents urllib3 from configuring SSL appropriately and may cause certain SSL connections to fail. For more information, see https://urllib3.readthedocs.org/en/latest/security.html#insecureplatformwarning.\n",
      "  InsecurePlatformWarning\n"
     ]
    }
   ],
   "source": [
    "SOCRATA_KEY = \"O196O9J9mXavCQov8jBhT1u75\" \n",
    "import requests\n",
    "\n",
    "## get the response from the request\n",
    "r = requests.get(data_url,\n",
    "                 params=params,\n",
    "                 headers={\"X-App-Token\": SOCRATA_KEY})\n",
    "\n",
    "assert \"message\" not in r.json()"
   ]
  },
  {
   "cell_type": "markdown",
   "metadata": {},
   "source": [
    "We can get the dataset from the response.  If there is a AssertionError, it is likely that you make some mistakes in setting the data_url or setting the parameters. You can see the error by print `r.json()[\"message\"]`."
   ]
  },
  {
   "cell_type": "code",
   "execution_count": 6,
   "metadata": {
    "collapsed": false
   },
   "outputs": [
    {
     "data": {
      "text/plain": [
       "{u'am_peak_hour_ok_flag': u'N',\n",
       " u'night_weekend_only_flag': u'N',\n",
       " u'permit_location_text': u\"104' N C/L OF N 85TH ST. & 24' E OF C/L OF WALLINGFORD AVE N\",\n",
       " u'permit_status': u'Issued',\n",
       " u'pm_peak_hour_ok_flag': u'N',\n",
       " u'shape': {u'geometry': {u'paths': [[[-122.3364553319999, 47.69050658400005],\n",
       "     [-122.33647501999991, 47.69232608000004]]]},\n",
       "  u'latitude': u'47.69050658400005',\n",
       "  u'longitude': u'-122.3364553319999',\n",
       "  u'needs_recoding': False},\n",
       " u'shape_length': u'663.708360780565044478862546384334564208984375',\n",
       " u'sidewalk_block_end_date': 1435302000,\n",
       " u'sidewalk_block_start_date': 1432796400,\n",
       " u'sidewalk_blocked_flag': u'Y',\n",
       " u'sidewalk_closed_flag': u'N'}"
      ]
     },
     "execution_count": 6,
     "metadata": {},
     "output_type": "execute_result"
    }
   ],
   "source": [
    "# get the first element in the json file\n",
    "r.json()[0]"
   ]
  },
  {
   "cell_type": "markdown",
   "metadata": {},
   "source": [
    "## Step4: Store Data"
   ]
  },
  {
   "cell_type": "markdown",
   "metadata": {},
   "source": [
    "We can store the json file we get from the request as a local file."
   ]
  },
  {
   "cell_type": "code",
   "execution_count": 7,
   "metadata": {
    "collapsed": false
   },
   "outputs": [],
   "source": [
    "import json\n",
    "new_file_name = \"permits.json\"\n",
    "with open(\"./\" + new_file_name, \"w\") as f:\n",
    "    json.dump(r.json(), f)"
   ]
  },
  {
   "cell_type": "markdown",
   "metadata": {},
   "source": [
    "Then you can find a file named `permits.json` in the local file."
   ]
  },
  {
   "cell_type": "markdown",
   "metadata": {},
   "source": [
    "Code for permits:"
   ]
  },
  {
   "cell_type": "code",
   "execution_count": 28,
   "metadata": {
    "collapsed": false
   },
   "outputs": [
    {
     "name": "stderr",
     "output_type": "stream",
     "text": [
      "/Library/Python/2.7/site-packages/requests/packages/urllib3/util/ssl_.py:90: InsecurePlatformWarning: A true SSLContext object is not available. This prevents urllib3 from configuring SSL appropriately and may cause certain SSL connections to fail. For more information, see https://urllib3.readthedocs.org/en/latest/security.html#insecureplatformwarning.\n",
      "  InsecurePlatformWarning\n"
     ]
    }
   ],
   "source": [
    "import datetime\n",
    "import json\n",
    "import requests\n",
    "SOCRATA_KEY = \"O196O9J9mXavCQov8jBhT1u75\" \n",
    "\n",
    "\n",
    "attr_permit = [\"permit_status\",]\n",
    "attr_geo = [\"shape\",\"shape_length\",\"permit_location_text\"]\n",
    "attr_time = [\"am_peak_hour_ok_flag\", \"pm_peak_hour_ok_flag\", \"night_weekend_only_flag\"]\n",
    "attr_close = [\"sidewalk_closed_flag\",\"sidewalk_close_start_date\", \"sidewalk_close_end_date\"]\n",
    "attr_block = [\"sidewalk_blocked_flag\", \"sidewalk_block_start_date\",\"sidewalk_block_end_date\"]\n",
    "attr = attr_permit + attr_geo + attr_time + attr_close + attr_block\n",
    "\n",
    "# Query Constraints\n",
    "\n",
    "constraints  = []\n",
    "constraints.append(\"(sidewalk_closed_flag = 'Y' or sidewalk_blocked_flag = 'Y')\")\n",
    "import datetime\n",
    "today = datetime.date.today().isoformat()\n",
    "timeConstraint = \"(sidewalk_close_end_date >= '\" + today + \"' and sidewalk_close_end_date <= '\"+ today + \"')\"\n",
    "timeConstraint += \" or \"\n",
    "timeConstraint += \"(sidewalk_block_end_date >= '\" + today + \"' and sidewalk_block_end_date <= '\"+ today + \"')\"\n",
    "constraints.append(timeConstraint)\n",
    "\n",
    "# Create parameter list\n",
    "params = {\"$select\": ','.join(attr), \n",
    "          \"$where\": ' and '.join(constraints),\n",
    "          \"$limit\": 50000}\n",
    "\n",
    "data_url = \"https://data.seattle.gov/resource/w47m-dg37\"\n",
    "r = requests.get(data_url,\n",
    "                 params=params,\n",
    "                 headers={\"X-App-Token\": SOCRATA_KEY})\n",
    "\n",
    "json_list = r.json()\n",
    "\n",
    "with open(\"./permits.json\", \"w\") as f:\n",
    "    json.dump(json_list, f)"
   ]
  },
  {
   "cell_type": "markdown",
   "metadata": {
    "collapsed": true
   },
   "source": [
    "Code for Beacons:\n"
   ]
  },
  {
   "cell_type": "code",
   "execution_count": 49,
   "metadata": {
    "collapsed": false
   },
   "outputs": [
    {
     "ename": "SyntaxError",
     "evalue": "invalid syntax (<ipython-input-49-aa80937c9b1d>, line 1)",
     "output_type": "error",
     "traceback": [
      "\u001b[0;36m  File \u001b[0;32m\"<ipython-input-49-aa80937c9b1d>\"\u001b[0;36m, line \u001b[0;32m1\u001b[0m\n\u001b[0;31m    https://data.seattle.gov/resource/iwrq-qjta.json\u001b[0m\n\u001b[0m         ^\u001b[0m\n\u001b[0;31mSyntaxError\u001b[0m\u001b[0;31m:\u001b[0m invalid syntax\n"
     ]
    }
   ],
   "source": [
    "https://data.seattle.gov/resource/iwrq-qjta.json\n",
    "\n",
    "    import datetime\n",
    "import json\n",
    "import requests\n",
    "SOCRATA_KEY = \"O196O9J9mXavCQov8jBhT1u75\" \n",
    "\n",
    "\n",
    "attr_permit = [\"permit_status\",]\n",
    "attr_geo = [\"shape\",\"shape_length\",\"permit_location_text\"]\n",
    "attr_time = [\"am_peak_hour_ok_flag\", \"pm_peak_hour_ok_flag\", \"night_weekend_only_flag\"]\n",
    "attr_close = [\"sidewalk_closed_flag\",\"sidewalk_close_start_date\", \"sidewalk_close_end_date\"]\n",
    "attr_block = [\"sidewalk_blocked_flag\", \"sidewalk_block_start_date\",\"sidewalk_block_end_date\"]\n",
    "attr = attr_permit + attr_geo + attr_time + attr_close + attr_block\n",
    "\n",
    "# Query Constraints\n",
    "\n",
    "constraints  = []\n",
    "constraints.append(\"(sidewalk_closed_flag = 'Y' or sidewalk_blocked_flag = 'Y')\")\n",
    "import datetime\n",
    "today = datetime.date.today().isoformat()\n",
    "timeConstraint = \"(sidewalk_close_end_date >= '\" + today + \"' and sidewalk_close_end_date <= '\"+ today + \"')\"\n",
    "timeConstraint += \" or \"\n",
    "timeConstraint += \"(sidewalk_block_end_date >= '\" + today + \"' and sidewalk_block_end_date <= '\"+ today + \"')\"\n",
    "constraints.append(timeConstraint)\n",
    "\n",
    "# Create parameter list\n",
    "params = {\"$select\": ','.join(attr), \n",
    "          \"$where\": ' and '.join(constraints),\n",
    "          \"$limit\": 50000}\n",
    "\n",
    "\n",
    "r = requests.get(data_url,\n",
    "                 params=params,\n",
    "                 headers={\"X-App-Token\": SOCRATA_KEY})\n",
    "\n",
    "json_list = r.json()\n",
    "\n",
    "with open(\"./permits.json\", \"w\") as f:\n",
    "    json.dump(json_list, f)"
   ]
  },
  {
   "cell_type": "code",
   "execution_count": 57,
   "metadata": {
    "collapsed": false
   },
   "outputs": [
    {
     "name": "stderr",
     "output_type": "stream",
     "text": [
      "/Library/Python/2.7/site-packages/requests/packages/urllib3/util/ssl_.py:90: InsecurePlatformWarning: A true SSLContext object is not available. This prevents urllib3 from configuring SSL appropriately and may cause certain SSL connections to fail. For more information, see https://urllib3.readthedocs.org/en/latest/security.html#insecureplatformwarning.\n",
      "  InsecurePlatformWarning\n"
     ]
    }
   ],
   "source": [
    "\n",
    "import json\n",
    "import requests\n",
    "SOCRATA_KEY = \"O196O9J9mXavCQov8jBhT1u75\" \n",
    "\n",
    "data_url = \"https://data.seattle.gov/resource/aykm-6cyc\"\n",
    "r = requests.get(data_url,\n",
    "                 params = {},\n",
    "                 headers={\"X-App-Token\": SOCRATA_KEY})\n"
   ]
  },
  {
   "cell_type": "code",
   "execution_count": 58,
   "metadata": {
    "collapsed": false
   },
   "outputs": [
    {
     "data": {
      "text/plain": [
       "<Response [500]>"
      ]
     },
     "execution_count": 58,
     "metadata": {},
     "output_type": "execute_result"
    }
   ],
   "source": [
    "r"
   ]
  },
  {
   "cell_type": "code",
   "execution_count": 60,
   "metadata": {
    "collapsed": false
   },
   "outputs": [
    {
     "data": {
      "text/plain": [
       "{u'error': True, u'message': u'Internal error', u'status': 500}"
      ]
     },
     "execution_count": 60,
     "metadata": {},
     "output_type": "execute_result"
    }
   ],
   "source": [
    "r.json()"
   ]
  },
  {
   "cell_type": "code",
   "execution_count": null,
   "metadata": {
    "collapsed": true
   },
   "outputs": [],
   "source": []
  }
 ],
 "metadata": {
  "kernelspec": {
   "display_name": "Python 2",
   "language": "python",
   "name": "python2"
  },
  "language_info": {
   "codemirror_mode": {
    "name": "ipython",
    "version": 2
   },
   "file_extension": ".py",
   "mimetype": "text/x-python",
   "name": "python",
   "nbconvert_exporter": "python",
   "pygments_lexer": "ipython2",
   "version": "2.7.6"
  }
 },
 "nbformat": 4,
 "nbformat_minor": 0
}
